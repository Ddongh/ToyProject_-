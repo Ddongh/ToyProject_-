{
 "cells": [
  {
   "cell_type": "markdown",
   "id": "fd098962",
   "metadata": {},
   "source": [
    "# 종목코드 크롤링"
   ]
  },
  {
   "cell_type": "code",
   "execution_count": 1,
   "id": "fda0f9b6",
   "metadata": {
    "scrolled": true
   },
   "outputs": [
    {
     "name": "stdout",
     "output_type": "stream",
     "text": [
      "https://www.ktb.co.kr/trading/popup/itemPop.jspx\n"
     ]
    }
   ],
   "source": [
    "import requests\n",
    "from bs4 import BeautifulSoup\n",
    "\n",
    "url = 'https://www.ktb.co.kr/trading/popup/itemPop.jspx' # KTB 투자증권 종목코드 조회 사이트\n",
    "print(url)\n",
    "webpage = requests.get(url) \n",
    "soup = BeautifulSoup(webpage.content, 'html.parser')"
   ]
  },
  {
   "cell_type": "code",
   "execution_count": 2,
   "id": "05817c58",
   "metadata": {},
   "outputs": [
    {
     "name": "stdout",
     "output_type": "stream",
     "text": [
      "<td>000020</td>\n",
      "<td><a href=\"javascript:fnOnClick('1','000020','동화약품                                ','040','045','1','KOSPI','009','KR7000020008')\">동화약품                                </a></td>\n"
     ]
    }
   ],
   "source": [
    "td = soup.find_all(\"td\") # td 태그\n",
    "print(td[0])\n",
    "print(td[1])"
   ]
  },
  {
   "cell_type": "code",
   "execution_count": 3,
   "id": "a3e67943",
   "metadata": {},
   "outputs": [
    {
     "name": "stdout",
     "output_type": "stream",
     "text": [
      "000020\n",
      "동화약품                                \n",
      "000040\n",
      "KR모터스                                \n",
      "000050\n",
      "경방                                    \n"
     ]
    }
   ],
   "source": [
    "for i in range(6):\n",
    "     print(td[i].get_text()) # td 태그 중 text만 출력\n",
    "                            # 종목 코드 번호, 회사명으로 반복되어 이루어져있음"
   ]
  },
  {
   "cell_type": "code",
   "execution_count": 4,
   "id": "be70bd9a",
   "metadata": {},
   "outputs": [],
   "source": [
    "code_num = [] # 종목 코드번호 list 생성\n",
    "code_name = [] # 종목 이름 list 생성\n",
    "\n",
    "td_len = len(soup.find_all('td')) # td 태그의 길이\n",
    "\n",
    "for i in range(td_len):\n",
    "    if (i % 2 == 0): # td 태그 중 짝수 번째는 종목 코드번호이므로 code_num 리스트에 append\n",
    "        code_num.append(td[i].get_text())\n",
    "    if (i % 2 == 1): # td 태그 중 홀수 번째는 종목 이름이므로 code_name 리스트에 append \n",
    "        code_name.append(td[i].get_text()) \n",
    "    "
   ]
  },
  {
   "cell_type": "code",
   "execution_count": 5,
   "id": "fbfec8af",
   "metadata": {},
   "outputs": [
    {
     "data": {
      "text/plain": [
       "['000020', '000040', '000050', '000060', '000070']"
      ]
     },
     "execution_count": 5,
     "metadata": {},
     "output_type": "execute_result"
    }
   ],
   "source": [
    "code_num[:5] # 종목 코드번호 list"
   ]
  },
  {
   "cell_type": "code",
   "execution_count": 6,
   "id": "bb7a4778",
   "metadata": {},
   "outputs": [
    {
     "data": {
      "text/plain": [
       "['동화약품                                ',\n",
       " 'KR모터스                                ',\n",
       " '경방                                    ',\n",
       " '메리츠화재                              ',\n",
       " '삼양홀딩스                              ']"
      ]
     },
     "execution_count": 6,
     "metadata": {},
     "output_type": "execute_result"
    }
   ],
   "source": [
    "code_name[:5]   # 종목 이름 list\n",
    "            # 문자열에 빈공간이 많다."
   ]
  },
  {
   "cell_type": "code",
   "execution_count": 7,
   "id": "6c5d635f",
   "metadata": {},
   "outputs": [
    {
     "data": {
      "text/plain": [
       "['동화약품', 'KR모터스', '경방', '메리츠화재', '삼양홀딩스']"
      ]
     },
     "execution_count": 7,
     "metadata": {},
     "output_type": "execute_result"
    }
   ],
   "source": [
    "for i in range(len(code_name)):\n",
    "    code_name[i] = code_name[i].split(' ')[0] # 필요한 문자열은 왼쪽에 붙어있으므로 공백(' ')을 기준으로 split한 후 첫번째 값만 가져온다.\n",
    "code_name[:5]"
   ]
  },
  {
   "cell_type": "code",
   "execution_count": 8,
   "id": "e892b9c8",
   "metadata": {},
   "outputs": [
    {
     "data": {
      "text/html": [
       "<div>\n",
       "<style scoped>\n",
       "    .dataframe tbody tr th:only-of-type {\n",
       "        vertical-align: middle;\n",
       "    }\n",
       "\n",
       "    .dataframe tbody tr th {\n",
       "        vertical-align: top;\n",
       "    }\n",
       "\n",
       "    .dataframe thead th {\n",
       "        text-align: right;\n",
       "    }\n",
       "</style>\n",
       "<table border=\"1\" class=\"dataframe\">\n",
       "  <thead>\n",
       "    <tr style=\"text-align: right;\">\n",
       "      <th></th>\n",
       "      <th>종목 이름</th>\n",
       "      <th>종목 코드</th>\n",
       "    </tr>\n",
       "  </thead>\n",
       "  <tbody>\n",
       "    <tr>\n",
       "      <th>0</th>\n",
       "      <td>동화약품</td>\n",
       "      <td>000020</td>\n",
       "    </tr>\n",
       "    <tr>\n",
       "      <th>1</th>\n",
       "      <td>KR모터스</td>\n",
       "      <td>000040</td>\n",
       "    </tr>\n",
       "  </tbody>\n",
       "</table>\n",
       "</div>"
      ],
      "text/plain": [
       "   종목 이름   종목 코드\n",
       "0   동화약품  000020\n",
       "1  KR모터스  000040"
      ]
     },
     "execution_count": 8,
     "metadata": {},
     "output_type": "execute_result"
    }
   ],
   "source": [
    "import pandas as pd\n",
    "\n",
    "stock_code = pd.DataFrame({'종목 이름' : code_name, '종목 코드' : code_num}) \n",
    "stock_code.head(2) # code_name과 code_num을 이용해 dataframe 생성"
   ]
  },
  {
   "cell_type": "markdown",
   "id": "4282ab09",
   "metadata": {},
   "source": [
    "# 주식 데이터 가져오기"
   ]
  },
  {
   "cell_type": "code",
   "execution_count": 10,
   "id": "f535453f",
   "metadata": {
    "scrolled": true
   },
   "outputs": [
    {
     "data": {
      "text/html": [
       "<div>\n",
       "<style scoped>\n",
       "    .dataframe tbody tr th:only-of-type {\n",
       "        vertical-align: middle;\n",
       "    }\n",
       "\n",
       "    .dataframe tbody tr th {\n",
       "        vertical-align: top;\n",
       "    }\n",
       "\n",
       "    .dataframe thead th {\n",
       "        text-align: right;\n",
       "    }\n",
       "</style>\n",
       "<table border=\"1\" class=\"dataframe\">\n",
       "  <thead>\n",
       "    <tr style=\"text-align: right;\">\n",
       "      <th></th>\n",
       "      <th>High</th>\n",
       "      <th>Low</th>\n",
       "      <th>Open</th>\n",
       "      <th>Close</th>\n",
       "      <th>Volume</th>\n",
       "      <th>Adj Close</th>\n",
       "    </tr>\n",
       "    <tr>\n",
       "      <th>Date</th>\n",
       "      <th></th>\n",
       "      <th></th>\n",
       "      <th></th>\n",
       "      <th></th>\n",
       "      <th></th>\n",
       "      <th></th>\n",
       "    </tr>\n",
       "  </thead>\n",
       "  <tbody>\n",
       "    <tr>\n",
       "      <th>2020-01-02</th>\n",
       "      <td>56000.0</td>\n",
       "      <td>55000.0</td>\n",
       "      <td>55500.0</td>\n",
       "      <td>55200.0</td>\n",
       "      <td>12993228.0</td>\n",
       "      <td>52058.132812</td>\n",
       "    </tr>\n",
       "    <tr>\n",
       "      <th>2020-01-03</th>\n",
       "      <td>56600.0</td>\n",
       "      <td>54900.0</td>\n",
       "      <td>56000.0</td>\n",
       "      <td>55500.0</td>\n",
       "      <td>15422255.0</td>\n",
       "      <td>52341.054688</td>\n",
       "    </tr>\n",
       "  </tbody>\n",
       "</table>\n",
       "</div>"
      ],
      "text/plain": [
       "               High      Low     Open    Close      Volume     Adj Close\n",
       "Date                                                                    \n",
       "2020-01-02  56000.0  55000.0  55500.0  55200.0  12993228.0  52058.132812\n",
       "2020-01-03  56600.0  54900.0  56000.0  55500.0  15422255.0  52341.054688"
      ]
     },
     "execution_count": 10,
     "metadata": {},
     "output_type": "execute_result"
    }
   ],
   "source": [
    "import pandas_datareader as pdr\n",
    "\n",
    "sam = pdr.get_data_yahoo('005930.KS', start='2020-01-01', end='2020-12-31') # 삼성전자의 2020년 주식 데이터\n",
    "sam.head(2)"
   ]
  },
  {
   "cell_type": "code",
   "execution_count": 11,
   "id": "d31275e9",
   "metadata": {},
   "outputs": [
    {
     "data": {
      "text/plain": [
       "Date\n",
       "2020-01-02    55200.0\n",
       "2020-01-03    55500.0\n",
       "2020-01-06    55500.0\n",
       "2020-01-07    55800.0\n",
       "2020-01-08    56800.0\n",
       "Name: Close, dtype: float64"
      ]
     },
     "execution_count": 11,
     "metadata": {},
     "output_type": "execute_result"
    }
   ],
   "source": [
    "sam_C = sam.loc[:,'Close'] # 삼성전자의 종가(Close) 데이터\n",
    "sam_C.head()"
   ]
  },
  {
   "cell_type": "markdown",
   "id": "b50a8b6e",
   "metadata": {},
   "source": [
    "# 서울시 코로나 확진자 데이터 가져오기"
   ]
  },
  {
   "cell_type": "code",
   "execution_count": 12,
   "id": "67e0624d",
   "metadata": {},
   "outputs": [
    {
     "name": "stderr",
     "output_type": "stream",
     "text": [
      "/Users/parkdonghyeok/opt/anaconda3/lib/python3.8/site-packages/IPython/core/interactiveshell.py:3441: DtypeWarning: Columns (4,10) have mixed types.Specify dtype option on import or set low_memory=False.\n",
      "  exec(code_obj, self.user_global_ns, self.user_ns)\n"
     ]
    },
    {
     "data": {
      "text/html": [
       "<div>\n",
       "<style scoped>\n",
       "    .dataframe tbody tr th:only-of-type {\n",
       "        vertical-align: middle;\n",
       "    }\n",
       "\n",
       "    .dataframe tbody tr th {\n",
       "        vertical-align: top;\n",
       "    }\n",
       "\n",
       "    .dataframe thead th {\n",
       "        text-align: right;\n",
       "    }\n",
       "</style>\n",
       "<table border=\"1\" class=\"dataframe\">\n",
       "  <thead>\n",
       "    <tr style=\"text-align: right;\">\n",
       "      <th></th>\n",
       "      <th>연번</th>\n",
       "      <th>확진일</th>\n",
       "      <th>환자번호</th>\n",
       "      <th>국적</th>\n",
       "      <th>환자정보</th>\n",
       "      <th>지역</th>\n",
       "      <th>여행력</th>\n",
       "      <th>접촉력</th>\n",
       "      <th>조치사항</th>\n",
       "      <th>상태</th>\n",
       "      <th>이동경로</th>\n",
       "      <th>등록일</th>\n",
       "      <th>수정일</th>\n",
       "      <th>노출여부</th>\n",
       "    </tr>\n",
       "  </thead>\n",
       "  <tbody>\n",
       "    <tr>\n",
       "      <th>0</th>\n",
       "      <td>213114</td>\n",
       "      <td>2021-12-23</td>\n",
       "      <td>NaN</td>\n",
       "      <td>NaN</td>\n",
       "      <td>NaN</td>\n",
       "      <td>종로구</td>\n",
       "      <td>NaN</td>\n",
       "      <td>감염경로 조사중</td>\n",
       "      <td>NaN</td>\n",
       "      <td>-</td>\n",
       "      <td>NaN</td>\n",
       "      <td>2021-12-24 10:48</td>\n",
       "      <td>2021-12-24 10:48</td>\n",
       "      <td>Y</td>\n",
       "    </tr>\n",
       "    <tr>\n",
       "      <th>1</th>\n",
       "      <td>213113</td>\n",
       "      <td>2021-12-23</td>\n",
       "      <td>NaN</td>\n",
       "      <td>NaN</td>\n",
       "      <td>NaN</td>\n",
       "      <td>송파구</td>\n",
       "      <td>NaN</td>\n",
       "      <td>감염경로 조사중</td>\n",
       "      <td>NaN</td>\n",
       "      <td>-</td>\n",
       "      <td>NaN</td>\n",
       "      <td>2021-12-24 10:48</td>\n",
       "      <td>2021-12-24 10:48</td>\n",
       "      <td>Y</td>\n",
       "    </tr>\n",
       "  </tbody>\n",
       "</table>\n",
       "</div>"
      ],
      "text/plain": [
       "       연번         확진일  환자번호  국적 환자정보   지역  여행력       접촉력  조치사항 상태 이동경로  \\\n",
       "0  213114  2021-12-23   NaN NaN  NaN  종로구  NaN  감염경로 조사중   NaN  -  NaN   \n",
       "1  213113  2021-12-23   NaN NaN  NaN  송파구  NaN  감염경로 조사중   NaN  -  NaN   \n",
       "\n",
       "                등록일               수정일 노출여부  \n",
       "0  2021-12-24 10:48  2021-12-24 10:48    Y  \n",
       "1  2021-12-24 10:48  2021-12-24 10:48    Y  "
      ]
     },
     "execution_count": 12,
     "metadata": {},
     "output_type": "execute_result"
    }
   ],
   "source": [
    "import pandas as pd\n",
    "\n",
    "corona = pd.read_csv('seoul_corona.csv')\n",
    "corona.head(2)"
   ]
  },
  {
   "cell_type": "code",
   "execution_count": 13,
   "id": "2daae573",
   "metadata": {
    "scrolled": true
   },
   "outputs": [
    {
     "data": {
      "text/plain": [
       "확진일\n",
       "2020-01-24    1\n",
       "2020-01-30    3\n",
       "2020-01-31    3\n",
       "Name: 연번, dtype: int64"
      ]
     },
     "execution_count": 13,
     "metadata": {},
     "output_type": "execute_result"
    }
   ],
   "source": [
    "corona_date = corona.groupby('확진일')['연번'].count() # 일자별 확진자 수를 확인하기 위해 '확진일'을 기준으로 groupby한 후 '연번'을 count\n",
    "corona_date.head(3)"
   ]
  },
  {
   "cell_type": "code",
   "execution_count": 14,
   "id": "81bcd65b",
   "metadata": {},
   "outputs": [
    {
     "data": {
      "text/html": [
       "<div>\n",
       "<style scoped>\n",
       "    .dataframe tbody tr th:only-of-type {\n",
       "        vertical-align: middle;\n",
       "    }\n",
       "\n",
       "    .dataframe tbody tr th {\n",
       "        vertical-align: top;\n",
       "    }\n",
       "\n",
       "    .dataframe thead th {\n",
       "        text-align: right;\n",
       "    }\n",
       "</style>\n",
       "<table border=\"1\" class=\"dataframe\">\n",
       "  <thead>\n",
       "    <tr style=\"text-align: right;\">\n",
       "      <th></th>\n",
       "      <th>확진자</th>\n",
       "    </tr>\n",
       "    <tr>\n",
       "      <th>확진일</th>\n",
       "      <th></th>\n",
       "    </tr>\n",
       "  </thead>\n",
       "  <tbody>\n",
       "    <tr>\n",
       "      <th>2020-01-24</th>\n",
       "      <td>1</td>\n",
       "    </tr>\n",
       "    <tr>\n",
       "      <th>2020-01-30</th>\n",
       "      <td>3</td>\n",
       "    </tr>\n",
       "    <tr>\n",
       "      <th>2020-01-31</th>\n",
       "      <td>3</td>\n",
       "    </tr>\n",
       "  </tbody>\n",
       "</table>\n",
       "</div>"
      ],
      "text/plain": [
       "            확진자\n",
       "확진일            \n",
       "2020-01-24    1\n",
       "2020-01-30    3\n",
       "2020-01-31    3"
      ]
     },
     "execution_count": 14,
     "metadata": {},
     "output_type": "execute_result"
    }
   ],
   "source": [
    "corona_date = corona_date.to_frame(name='확진자') # 데이터프레임으로 변경\n",
    "corona_date.head(3)"
   ]
  },
  {
   "cell_type": "code",
   "execution_count": 15,
   "id": "e5362aae",
   "metadata": {},
   "outputs": [
    {
     "data": {
      "text/html": [
       "<div>\n",
       "<style scoped>\n",
       "    .dataframe tbody tr th:only-of-type {\n",
       "        vertical-align: middle;\n",
       "    }\n",
       "\n",
       "    .dataframe tbody tr th {\n",
       "        vertical-align: top;\n",
       "    }\n",
       "\n",
       "    .dataframe thead th {\n",
       "        text-align: right;\n",
       "    }\n",
       "</style>\n",
       "<table border=\"1\" class=\"dataframe\">\n",
       "  <thead>\n",
       "    <tr style=\"text-align: right;\">\n",
       "      <th></th>\n",
       "      <th>확진자</th>\n",
       "      <th>확진일</th>\n",
       "    </tr>\n",
       "    <tr>\n",
       "      <th>확진일</th>\n",
       "      <th></th>\n",
       "      <th></th>\n",
       "    </tr>\n",
       "  </thead>\n",
       "  <tbody>\n",
       "    <tr>\n",
       "      <th>2020-01-24</th>\n",
       "      <td>1</td>\n",
       "      <td>2020-01-24</td>\n",
       "    </tr>\n",
       "    <tr>\n",
       "      <th>2020-01-30</th>\n",
       "      <td>3</td>\n",
       "      <td>2020-01-30</td>\n",
       "    </tr>\n",
       "  </tbody>\n",
       "</table>\n",
       "</div>"
      ],
      "text/plain": [
       "            확진자         확진일\n",
       "확진일                        \n",
       "2020-01-24    1  2020-01-24\n",
       "2020-01-30    3  2020-01-30"
      ]
     },
     "execution_count": 15,
     "metadata": {},
     "output_type": "execute_result"
    }
   ],
   "source": [
    "corona_date['확진일'] = corona_date.index # 인덱스를 '확진일' column으로 이동\n",
    "corona_date.head(2)"
   ]
  },
  {
   "cell_type": "code",
   "execution_count": 16,
   "id": "313be7df",
   "metadata": {},
   "outputs": [
    {
     "data": {
      "text/html": [
       "<div>\n",
       "<style scoped>\n",
       "    .dataframe tbody tr th:only-of-type {\n",
       "        vertical-align: middle;\n",
       "    }\n",
       "\n",
       "    .dataframe tbody tr th {\n",
       "        vertical-align: top;\n",
       "    }\n",
       "\n",
       "    .dataframe thead th {\n",
       "        text-align: right;\n",
       "    }\n",
       "</style>\n",
       "<table border=\"1\" class=\"dataframe\">\n",
       "  <thead>\n",
       "    <tr style=\"text-align: right;\">\n",
       "      <th></th>\n",
       "      <th>확진자</th>\n",
       "      <th>확진일</th>\n",
       "    </tr>\n",
       "  </thead>\n",
       "  <tbody>\n",
       "    <tr>\n",
       "      <th>0</th>\n",
       "      <td>1</td>\n",
       "      <td>2020-01-24</td>\n",
       "    </tr>\n",
       "    <tr>\n",
       "      <th>1</th>\n",
       "      <td>3</td>\n",
       "      <td>2020-01-30</td>\n",
       "    </tr>\n",
       "  </tbody>\n",
       "</table>\n",
       "</div>"
      ],
      "text/plain": [
       "   확진자        확진일\n",
       "0    1 2020-01-24\n",
       "1    3 2020-01-30"
      ]
     },
     "execution_count": 16,
     "metadata": {},
     "output_type": "execute_result"
    }
   ],
   "source": [
    "corona_date.reset_index(drop = True, inplace = True) # 인덱스 초기화\n",
    "corona_date['확진일'] = pd.to_datetime(corona_date['확진일'])\n",
    "corona_date.head(2)"
   ]
  },
  {
   "cell_type": "code",
   "execution_count": 17,
   "id": "c4b40e3b",
   "metadata": {},
   "outputs": [
    {
     "name": "stdout",
     "output_type": "stream",
     "text": [
      "<class 'pandas.core.frame.DataFrame'>\n",
      "RangeIndex: 668 entries, 0 to 667\n",
      "Data columns (total 2 columns):\n",
      " #   Column  Non-Null Count  Dtype         \n",
      "---  ------  --------------  -----         \n",
      " 0   확진자     668 non-null    int64         \n",
      " 1   확진일     668 non-null    datetime64[ns]\n",
      "dtypes: datetime64[ns](1), int64(1)\n",
      "memory usage: 10.6 KB\n"
     ]
    }
   ],
   "source": [
    "corona_date.info()"
   ]
  },
  {
   "cell_type": "code",
   "execution_count": 18,
   "id": "43e728eb",
   "metadata": {},
   "outputs": [],
   "source": [
    "from jupyterthemes import jtplot # 시각화 테마 변경\n",
    "jtplot.style(theme = 'monokai') \n",
    "\n",
    "import matplotlib.pyplot as plt # 한글 깨짐 방지\n",
    "from matplotlib import rc\n",
    "rc('font', family='AppleGothic')\n",
    "plt.rcParams['axes.unicode_minus'] = False"
   ]
  },
  {
   "cell_type": "markdown",
   "id": "59e591da",
   "metadata": {},
   "source": [
    "# 1. 코로나 확진자 그래프와 가장 비슷한 주식 데이터는 무엇일까?"
   ]
  },
  {
   "cell_type": "code",
   "execution_count": 30,
   "id": "684ea5ac",
   "metadata": {},
   "outputs": [
    {
     "data": {
      "text/plain": [
       "3281"
      ]
     },
     "execution_count": 30,
     "metadata": {},
     "output_type": "execute_result"
    }
   ],
   "source": [
    "len(stock_code)"
   ]
  },
  {
   "cell_type": "code",
   "execution_count": 44,
   "id": "cadd5ff9",
   "metadata": {
    "scrolled": false
   },
   "outputs": [
    {
     "name": "stdout",
     "output_type": "stream",
     "text": [
      "종목 코드 :  000020      diff_sum :  41.02 0\n",
      "종목 코드 :  000040      diff_sum :  20.58 1\n",
      "종목 코드 :  000050      diff_sum :  13.42 2\n",
      "종목 코드 :  000075      diff_sum :  12.1 5\n",
      "종목 코드 :  000270      diff_sum :  11.31 24\n",
      "종목 코드 :  000370      diff_sum :  10.43 28\n",
      "종목 코드 :  000815      diff_sum :  9.03 50\n",
      "종목 코드 :  001070      diff_sum :  8.71 69\n",
      "time : 250.7037479877472\n"
     ]
    }
   ],
   "source": [
    "import time\n",
    "import numpy as np\n",
    "start = time.time()  # 시작 시간 저장\n",
    "\n",
    "result_diff = 999\n",
    "result_stock = ''\n",
    "\n",
    "#for i in range(0,len(stock_code)):\n",
    "for i in range(100):\n",
    "    try:\n",
    "        code_ = stock_code.iloc[i, 1] + '.KS' # stock_code의 종목코드를 하나씩 가져와서 코드 생성\n",
    "        stock = pdr.get_data_yahoo(code_, start='2020-01-24', end='2021-12-23') # 코드를 이용해 주식 데이터 불러오기\n",
    "\n",
    "        stock_C = stock.loc[:,'Close'] # 종가(Close) 데이터\n",
    "        stock_C = stock_C.to_frame(name='주가') # 데이터프레임으로 변경\n",
    "        stock_C['날짜'] = stock_C.index # 인덱스의 Date를 날짜 col로 이동\n",
    "        stock_C.reset_index(drop = True, inplace = True) # 인덱스 초기화\n",
    "\n",
    "        df = pd.merge(stock_C, corona_date, left_on = '날짜', right_on= '확진일', how = 'inner')\n",
    "        df['확진자'] = np.log(df['확진자']) # 로그변환\n",
    "\n",
    "        df['주가'] = (df['주가'] - df['주가'].min()) / (df['주가'].max() - df['주가'].min()) # Min_Max 정규화\n",
    "        df['확진자'] = (df['확진자'] - df['확진자'].min()) / (df['확진자'].max() - df['확진자'].min()) # Min_Max 정규화\n",
    "        df['diff ** 2'] = (df['주가'] - df['확진자']) ** 2 # 주가와 확진자의 차이의 제곱\n",
    "        diff_sum = df['diff ** 2'].sum() # 차이의 제곱의 합\n",
    "\n",
    "        if diff_sum < result_diff and diff_sum != 0:\n",
    "            \n",
    "            result_diff = diff_sum\n",
    "            result_stock = stock_code.iloc[i, 1]\n",
    "            result_df = df\n",
    "            print('종목 코드 : ', result_stock, '     diff_sum : ', round(result_diff, 2), i)\n",
    "        \n",
    "    except KeyError : # 종목 데이터를 불러오는 과정에서 날짜에 해당하는 데이터가 없으면 오류 발생, 예외처리\n",
    "        print(stock_code.iloc[i, 0] + '종목을 불러오는데 오류가 발생하여 건너뛰었습니다.' + '(' , i ,'번째 실행)' )\n",
    "            \n",
    "\n",
    "print(\"time :\", time.time() - start)  # 코드 진행 시간 확인"
   ]
  },
  {
   "cell_type": "code",
   "execution_count": 46,
   "id": "6cecdeb3",
   "metadata": {
    "scrolled": false
   },
   "outputs": [
    {
     "data": {
      "text/plain": [
       "'001529.KS'"
      ]
     },
     "execution_count": 46,
     "metadata": {},
     "output_type": "execute_result"
    }
   ],
   "source": [
    "code_"
   ]
  },
  {
   "cell_type": "code",
   "execution_count": 47,
   "id": "b92e6362",
   "metadata": {},
   "outputs": [
    {
     "data": {
      "text/plain": [
       "'동양3우B'"
      ]
     },
     "execution_count": 47,
     "metadata": {},
     "output_type": "execute_result"
    }
   ],
   "source": [
    "stock_name = stock_code[stock_code['종목 코드'] == code_.split('.')[0]].iloc[0, 0]\n",
    "stock_name"
   ]
  },
  {
   "cell_type": "code",
   "execution_count": 48,
   "id": "c439acfd",
   "metadata": {},
   "outputs": [
    {
     "data": {
      "image/png": "[encoded data removed]",
      "text/plain": [
       "<Figure size 1440x720 with 1 Axes>"
      ]
     },
     "metadata": {
      "needs_background": "dark"
     },
     "output_type": "display_data"
    }
   ],
   "source": [
    "import matplotlib.pyplot as plt\n",
    "\n",
    "plt.figure(figsize = (20, 10))\n",
    "plt.title('코로나 확진자 수와 추세가 가장 비슷한 주식')\n",
    "plt.plot(result_df['주가'], label = stock_name + '의 주가')\n",
    "plt.plot(result_df['확진자'], label = '확진자의 수')\n",
    "\n",
    "plt.legend()\n",
    "plt.show()"
   ]
  },
  {
   "cell_type": "markdown",
   "id": "15c65b2b",
   "metadata": {},
   "source": [
    "# 2. 오늘 삼성전자가 상승(하락)했다면 일주일 뒤 상승(하락)할 확률이 \n",
    "# 가장 높은 주식은 무엇인가?"
   ]
  },
  {
   "cell_type": "code",
   "execution_count": 49,
   "id": "abfbf79a",
   "metadata": {},
   "outputs": [
    {
     "data": {
      "text/html": [
       "<div>\n",
       "<style scoped>\n",
       "    .dataframe tbody tr th:only-of-type {\n",
       "        vertical-align: middle;\n",
       "    }\n",
       "\n",
       "    .dataframe tbody tr th {\n",
       "        vertical-align: top;\n",
       "    }\n",
       "\n",
       "    .dataframe thead th {\n",
       "        text-align: right;\n",
       "    }\n",
       "</style>\n",
       "<table border=\"1\" class=\"dataframe\">\n",
       "  <thead>\n",
       "    <tr style=\"text-align: right;\">\n",
       "      <th></th>\n",
       "      <th>주가</th>\n",
       "      <th>date</th>\n",
       "      <th>up_down</th>\n",
       "    </tr>\n",
       "  </thead>\n",
       "  <tbody>\n",
       "    <tr>\n",
       "      <th>0</th>\n",
       "      <td>83000</td>\n",
       "      <td>2020-12-28</td>\n",
       "      <td>1</td>\n",
       "    </tr>\n",
       "    <tr>\n",
       "      <th>1</th>\n",
       "      <td>83900</td>\n",
       "      <td>2020-12-29</td>\n",
       "      <td>0</td>\n",
       "    </tr>\n",
       "    <tr>\n",
       "      <th>2</th>\n",
       "      <td>82200</td>\n",
       "      <td>2020-12-30</td>\n",
       "      <td>1</td>\n",
       "    </tr>\n",
       "    <tr>\n",
       "      <th>3</th>\n",
       "      <td>82900</td>\n",
       "      <td>2020-12-31</td>\n",
       "      <td>1</td>\n",
       "    </tr>\n",
       "    <tr>\n",
       "      <th>4</th>\n",
       "      <td>88800</td>\n",
       "      <td>2021-01-01</td>\n",
       "      <td>1</td>\n",
       "    </tr>\n",
       "    <tr>\n",
       "      <th>...</th>\n",
       "      <td>...</td>\n",
       "      <td>...</td>\n",
       "      <td>...</td>\n",
       "    </tr>\n",
       "    <tr>\n",
       "      <th>243</th>\n",
       "      <td>80500</td>\n",
       "      <td>2021-12-17</td>\n",
       "      <td>0</td>\n",
       "    </tr>\n",
       "    <tr>\n",
       "      <th>244</th>\n",
       "      <td>80200</td>\n",
       "      <td>2021-12-20</td>\n",
       "      <td>1</td>\n",
       "    </tr>\n",
       "    <tr>\n",
       "      <th>245</th>\n",
       "      <td>80300</td>\n",
       "      <td>2021-12-21</td>\n",
       "      <td>0</td>\n",
       "    </tr>\n",
       "    <tr>\n",
       "      <th>246</th>\n",
       "      <td>78800</td>\n",
       "      <td>2021-12-22</td>\n",
       "      <td>0</td>\n",
       "    </tr>\n",
       "    <tr>\n",
       "      <th>247</th>\n",
       "      <td>78300</td>\n",
       "      <td>2021-12-23</td>\n",
       "      <td>2</td>\n",
       "    </tr>\n",
       "  </tbody>\n",
       "</table>\n",
       "<p>248 rows × 3 columns</p>\n",
       "</div>"
      ],
      "text/plain": [
       "        주가       date  up_down\n",
       "0    83000 2020-12-28        1\n",
       "1    83900 2020-12-29        0\n",
       "2    82200 2020-12-30        1\n",
       "3    82900 2020-12-31        1\n",
       "4    88800 2021-01-01        1\n",
       "..     ...        ...      ...\n",
       "243  80500 2021-12-17        0\n",
       "244  80200 2021-12-20        1\n",
       "245  80300 2021-12-21        0\n",
       "246  78800 2021-12-22        0\n",
       "247  78300 2021-12-23        2\n",
       "\n",
       "[248 rows x 3 columns]"
      ]
     },
     "execution_count": 49,
     "metadata": {},
     "output_type": "execute_result"
    }
   ],
   "source": [
    "import pandas_datareader as pdr\n",
    "import matplotlib.pyplot as plt\n",
    "from datetime import date, timedelta\n",
    "\n",
    "sam = pdr.get_data_yahoo('005930.KS', start='2021-01-01', end='2021-12-31') # 삼성전자의 2020년 주식 데이터\n",
    "sam_C = sam['Close']\n",
    "sam_C = sam_C.to_frame(name='주가') # 데이터프레임으로 변경\n",
    "sam_C['date'] = sam_C.index # 인덱스의 Date를 날짜 col로 이동\n",
    "sam_C.reset_index(drop = True, inplace = True) # 인덱스 초기화\n",
    "sam_C['date'] = sam_C['date'] - timedelta(7) # 날짜를 일주일 전으로 바꿔주기\n",
    "sam_C['up_down'] = 2\n",
    "for i in range(len(sam_C) - 1):\n",
    "    if (sam_C.iloc[i, 0] < sam_C.iloc[i + 1, 0]): # 주가가 전날보다 다음날 상승했다면\n",
    "        sam_C.iloc[i, 2] = 1\n",
    "    elif (sam_C.iloc[i, 0] >= sam_C.iloc[i + 1, 0]): # 주가가 전날보다 다음날 하락했거나 같다면\n",
    "        sam_C.iloc[i, 2] = 0\n",
    "        \n",
    "sam_C"
   ]
  },
  {
   "cell_type": "code",
   "execution_count": 63,
   "id": "12a740a4",
   "metadata": {},
   "outputs": [
    {
     "name": "stdout",
     "output_type": "stream",
     "text": [
      "종목 코드 :  000020.KS      일치하는 날의 최대값 111\n",
      "종목 코드 :  000040.KS      일치하는 날의 최대값 131\n",
      "종목 코드 :  000050.KS      일치하는 날의 최소값 112\n",
      "종목 코드 :  000145.KS      일치하는 날의 최대값 135\n",
      "종목 코드 :  000157.KS      일치하는 날의 최대값 147\n",
      "종목 코드 :  000990.KS      일치하는 날의 최소값 111\n",
      "종목 코드 :  000995.KS      일치하는 날의 최소값 106\n",
      "time : 270.16447591781616\n"
     ]
    }
   ],
   "source": [
    "import time\n",
    "start = time.time()  # 시작 시간 저장\n",
    "\n",
    "result_max = 0\n",
    "result_min = 999\n",
    "result_max_code = ''\n",
    "result_min_code = ''\n",
    "result_list = []\n",
    "result_max_list = []\n",
    "result_min_list = []\n",
    "\n",
    "for i in range(100):\n",
    "#for i in range(0,len(stock_code)):    \n",
    "    try:\n",
    "        code_ = stock_code.iloc[i, 1] + '.KS' # stock_code의 종목코드를 하나씩 가져와서 코드 생성\n",
    "        stock = pdr.get_data_yahoo(code_, start='2020-12-28', end='2021-12-23') # 코드를 이용해 주식 데이터 불러오기\n",
    "\n",
    "        stock_C = stock.loc[:,'Close'] # 종가(Close) 데이터\n",
    "        stock_C = stock_C.to_frame(name='주가') # 데이터프레임으로 변경\n",
    "        stock_C['날짜'] = stock_C.index # 인덱스의 Date를 날짜 col로 이동\n",
    "        stock_C.reset_index(drop = True, inplace = True) # 인덱스 초기화\n",
    "\n",
    "        stock_C['up_down'] = 3 # 일치하는 날을 체크할 col 추가\n",
    "        \n",
    "        for i in range(len(stock_C) - 1):\n",
    "            if (stock_C.iloc[i, 0] < stock_C.iloc[i + 1, 0]): # 주가가 전날보다 다음날 상승또는 같다면 1\n",
    "                stock_C.iloc[i, 2] = 1\n",
    "            elif (stock_C.iloc[i, 0] >= stock_C.iloc[i + 1, 0]): # 주가가 전날보다 다음날 하락했다면 0\n",
    "                stock_C.iloc[i, 2] = 0\n",
    "        \n",
    "        df = pd.merge(sam_C,stock_C, left_on = 'date', right_on= '날짜', how = 'inner').reset_index() # date와 날짜를 기준으로 merge\n",
    "        \n",
    "        result = 0\n",
    "        \n",
    "        for i in range(len(df)):\n",
    "            if (df.iloc[i, 3] == df.iloc[i, 6]): # 일주일 전 삼성이 상승 또는 하락했을때 일주일 후 똑같이 상승 또는 하락 했다면\n",
    "                result += 1\n",
    "        \n",
    "        result_list.append(result)\n",
    "        \n",
    "        if result > result_max: # result 값이 이 전까지의 result의 최대값보다 크다면 \n",
    "            result_max = result # result_max 값 교체\n",
    "            result_max_code = code_ # result_max에 해당하는 code\n",
    "            result_max_list.append(result_max_code)\n",
    "            print('종목 코드 : ' , result_max_code, '     일치하는 날의 최대값' , result_max)\n",
    "            \n",
    "        elif result < result_min:\n",
    "            result_min = result\n",
    "            result_min_code = code_\n",
    "            result_min_list.append(result_max_code)\n",
    "            print('종목 코드 : ' , result_min_code, '     일치하는 날의 최소값' , result_min)\n",
    "    \n",
    "    except KeyError :\n",
    "        print(stock_code.iloc[i, 0] + '종목을 불러오는데 오류가 발생하여 건너뛰었습니다.')\n",
    "\n",
    "print(\"time :\", time.time() - start)  # 현재시각 - 시작시간 = 실행 시간"
   ]
  },
  {
   "cell_type": "code",
   "execution_count": 64,
   "id": "2d3f69e1",
   "metadata": {},
   "outputs": [
    {
     "data": {
      "image/png": "[encoded data removed]",
      "text/plain": [
       "<Figure size 1440x720 with 1 Axes>"
      ]
     },
     "metadata": {
      "needs_background": "dark"
     },
     "output_type": "display_data"
    }
   ],
   "source": [
    "import matplotlib.pyplot as plt\n",
    "\n",
    "plt.figure(figsize = (20, 10))\n",
    "plt.title('삼성전자와 일주일 간격으로 등락이 동일한 횟수')\n",
    "plt.bar(range(100), result_list)\n",
    "plt.ylim((100, 150))\n",
    "plt.show()"
   ]
  },
  {
   "cell_type": "code",
   "execution_count": 66,
   "id": "9e3dc491",
   "metadata": {},
   "outputs": [
    {
     "data": {
      "text/plain": [
       "'두산2우B'"
      ]
     },
     "execution_count": 66,
     "metadata": {},
     "output_type": "execute_result"
    }
   ],
   "source": [
    "stock_code[stock_code['종목 코드'] == result_max_code.split('.')[0]].iloc[0, 0]\n",
    "# 일치 횟수가 가장 많은 종목"
   ]
  },
  {
   "cell_type": "code",
   "execution_count": 60,
   "id": "daea9206",
   "metadata": {},
   "outputs": [
    {
     "data": {
      "text/plain": [
       "0.6228813559322034"
      ]
     },
     "execution_count": 60,
     "metadata": {},
     "output_type": "execute_result"
    }
   ],
   "source": [
    "result_max / len(df) # 비율"
   ]
  },
  {
   "cell_type": "code",
   "execution_count": 67,
   "id": "ee625e05",
   "metadata": {},
   "outputs": [
    {
     "data": {
      "text/plain": [
       "'DB하이텍1우'"
      ]
     },
     "execution_count": 67,
     "metadata": {},
     "output_type": "execute_result"
    }
   ],
   "source": [
    "stock_code[stock_code['종목 코드'] == result_min_code.split('.')[0]].iloc[0, 0]\n",
    "# 일치 횟수가 가장 적은 종목"
   ]
  },
  {
   "cell_type": "code",
   "execution_count": 68,
   "id": "02d42095",
   "metadata": {},
   "outputs": [
    {
     "data": {
      "text/plain": [
       "0.4491525423728814"
      ]
     },
     "execution_count": 68,
     "metadata": {},
     "output_type": "execute_result"
    }
   ],
   "source": [
    "result_min / len(df) # 비율"
   ]
  }
 ],
 "metadata": {
  "kernelspec": {
   "display_name": "Python 3 (ipykernel)",
   "language": "python",
   "name": "python3"
  },
  "language_info": {
   "codemirror_mode": {
    "name": "ipython",
    "version": 3
   },
   "file_extension": ".py",
   "mimetype": "text/x-python",
   "name": "python",
   "nbconvert_exporter": "python",
   "pygments_lexer": "ipython3",
   "version": "3.8.8"
  }
 },
 "nbformat": 4,
 "nbformat_minor": 5
}
